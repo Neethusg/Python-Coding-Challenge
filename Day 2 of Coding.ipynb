{
  "nbformat": 4,
  "nbformat_minor": 0,
  "metadata": {
    "colab": {
      "provenance": []
    },
    "kernelspec": {
      "name": "python3",
      "display_name": "Python 3"
    },
    "language_info": {
      "name": "python"
    }
  },
  "cells": [
    {
      "cell_type": "code",
      "execution_count": 1,
      "metadata": {
        "colab": {
          "base_uri": "https://localhost:8080/"
        },
        "id": "tyicBgE98hXj",
        "outputId": "2a76d317-9997-499d-9f7d-e70600a9d6a9"
      },
      "outputs": [
        {
          "output_type": "stream",
          "name": "stdout",
          "text": [
            "1\n",
            "22\n",
            "333\n",
            "4444\n",
            "55555\n"
          ]
        }
      ],
      "source": [
        "def number_pyramid(rows):\n",
        "    for i in range(1, rows + 1):\n",
        "        print(str(i) * i)\n",
        "\n",
        "number_pyramid(5)"
      ]
    },
    {
      "cell_type": "code",
      "source": [
        "number_pyramid(7)"
      ],
      "metadata": {
        "colab": {
          "base_uri": "https://localhost:8080/"
        },
        "id": "uoaxiM298pej",
        "outputId": "4039fc28-d036-48c5-f0e6-be1872209142"
      },
      "execution_count": 2,
      "outputs": [
        {
          "output_type": "stream",
          "name": "stdout",
          "text": [
            "1\n",
            "22\n",
            "333\n",
            "4444\n",
            "55555\n",
            "666666\n",
            "7777777\n"
          ]
        }
      ]
    },
    {
      "cell_type": "code",
      "source": [],
      "metadata": {
        "id": "ukZXvD3G8vrZ"
      },
      "execution_count": null,
      "outputs": []
    }
  ]
}