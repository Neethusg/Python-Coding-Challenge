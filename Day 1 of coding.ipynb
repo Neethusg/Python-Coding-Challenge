{
  "nbformat": 4,
  "nbformat_minor": 0,
  "metadata": {
    "colab": {
      "provenance": []
    },
    "kernelspec": {
      "name": "python3",
      "display_name": "Python 3"
    },
    "language_info": {
      "name": "python"
    }
  },
  "cells": [
    {
      "cell_type": "code",
      "source": [
        "from collections import defaultdict\n",
        "\n",
        "def group_anagrams(strs: list[str]) -> list[list[str]]:\n",
        "    anagram_map = defaultdict(list)\n",
        "\n",
        "    for word in strs:\n",
        "        # Sort the word and use it as a key\n",
        "        key = ''.join(sorted(word))\n",
        "        anagram_map[key].append(word)\n",
        "\n",
        "    return list(anagram_map.values())"
      ],
      "metadata": {
        "id": "HqUCrEBOPtzx"
      },
      "execution_count": 4,
      "outputs": []
    },
    {
      "cell_type": "code",
      "source": [
        "input_words = [\"eat\", \"tea\", \"tan\", \"ate\", \"nat\", \"bat\"]\n",
        "print(group_anagrams(input_words))"
      ],
      "metadata": {
        "colab": {
          "base_uri": "https://localhost:8080/"
        },
        "id": "6PPY2HzbPv8b",
        "outputId": "04cb13ed-7fff-4222-c082-6fed55086469"
      },
      "execution_count": 5,
      "outputs": [
        {
          "output_type": "stream",
          "name": "stdout",
          "text": [
            "[['eat', 'tea', 'ate'], ['tan', 'nat'], ['bat']]\n"
          ]
        }
      ]
    },
    {
      "cell_type": "code",
      "source": [],
      "metadata": {
        "id": "M4DlGktnP0p8"
      },
      "execution_count": null,
      "outputs": []
    }
  ]
}